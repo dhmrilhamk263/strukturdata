{
  "nbformat": 4,
  "nbformat_minor": 0,
  "metadata": {
    "colab": {
      "provenance": [],
      "authorship_tag": "ABX9TyODGjXur8HLPVqxoT5Agz8Y",
      "include_colab_link": true
    },
    "kernelspec": {
      "name": "python3",
      "display_name": "Python 3"
    },
    "language_info": {
      "name": "python"
    }
  },
  "cells": [
    {
      "cell_type": "markdown",
      "metadata": {
        "id": "view-in-github",
        "colab_type": "text"
      },
      "source": [
        "<a href=\"https://colab.research.google.com/github/dhmrilhamk263/strukturdata/blob/main/Praktikum2_G211220038.ipynb\" target=\"_parent\"><img src=\"https://colab.research.google.com/assets/colab-badge.svg\" alt=\"Open In Colab\"/></a>"
      ]
    },
    {
      "cell_type": "code",
      "execution_count": 1,
      "metadata": {
        "colab": {
          "base_uri": "https://localhost:8080/"
        },
        "id": "qZUD_dwVul6f",
        "outputId": "784564b1-f25d-41a2-d9f1-ef9d2961710f"
      },
      "outputs": [
        {
          "output_type": "stream",
          "name": "stdout",
          "text": [
            "Elemen ke-0: 1\n",
            "Elemen ke-1: dua\n",
            "Panjang Tuple: 4\n",
            "Elemen Tuple:\n",
            "1\n",
            "dua\n",
            "3.0\n",
            "True\n"
          ]
        }
      ],
      "source": [
        "# Contoh Tuple\n",
        "my_tuple = (1, 'dua', 3.0, True)\n",
        "\n",
        "# Akses elemen Tuple\n",
        "print(\"Elemen ke-0:\", my_tuple[0])\n",
        "print(\"Elemen ke-1:\", my_tuple[1])\n",
        "\n",
        "# Tuple bersifat tidak dapat diubah (immutable)\n",
        "# my_tuple[0] = 10  # Akan menghasilkan kesalahan\n",
        "\n",
        "# Panjang Tuple\n",
        "print(\"Panjang Tuple:\", len(my_tuple))\n",
        "\n",
        "# Iterasi Tuple\n",
        "print(\"Elemen Tuple:\")\n",
        "for elemen in my_tuple:\n",
        "    print(elemen)\n"
      ]
    },
    {
      "cell_type": "code",
      "source": [
        "# Contoh Dictionary\n",
        "my_dict = {'nama': 'Jack', 'usia': 20, 'kota': 'Semarang'}\n",
        "\n",
        "# Akses nilai dalam Dictionary\n",
        "print(\"Nama:\", my_dict['nama'])\n",
        "print(\"Usia:\", my_dict['usia'])\n",
        "\n",
        "# Mengubah nilai dalam Dictionary\n",
        "my_dict['usia'] = 26\n",
        "\n",
        "# Menambahkan item baru ke dalam Dictionary\n",
        "my_dict['pekerjaan'] = 'Programmer'\n",
        "\n",
        "# Hapus item dari Dictionary\n",
        "del my_dict['kota']\n",
        "\n",
        "# Cek keberadaan kunci dalam Dictionary\n",
        "if 'usia' in my_dict:\n",
        "    print(\"Usia:\", my_dict['usia'])\n",
        "else:\n",
        "    print(\"Usia tidak ditemukan\")\n",
        "\n",
        "# Iterasi Dictionary\n",
        "print(\"Isi Dictionary:\")\n",
        "for kunci, nilai in my_dict.items():\n",
        "    print(f\"{kunci}: {nilai}\")\n"
      ],
      "metadata": {
        "colab": {
          "base_uri": "https://localhost:8080/"
        },
        "id": "DEIgh63Vu86j",
        "outputId": "11e05299-a72a-4ca6-ed8f-79fbef182078"
      },
      "execution_count": 3,
      "outputs": [
        {
          "output_type": "stream",
          "name": "stdout",
          "text": [
            "Nama: Jack\n",
            "Usia: 20\n",
            "Usia: 26\n",
            "Isi Dictionary:\n",
            "nama: Jack\n",
            "usia: 26\n",
            "pekerjaan: Programmer\n"
          ]
        }
      ]
    }
  ]
}