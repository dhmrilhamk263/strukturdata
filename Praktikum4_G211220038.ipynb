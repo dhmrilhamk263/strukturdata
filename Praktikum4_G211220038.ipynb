{
  "nbformat": 4,
  "nbformat_minor": 0,
  "metadata": {
    "colab": {
      "provenance": [],
      "authorship_tag": "ABX9TyNscFWfboM1UPWO9g1PLVoP",
      "include_colab_link": true
    },
    "kernelspec": {
      "name": "python3",
      "display_name": "Python 3"
    },
    "language_info": {
      "name": "python"
    }
  },
  "cells": [
    {
      "cell_type": "markdown",
      "metadata": {
        "id": "view-in-github",
        "colab_type": "text"
      },
      "source": [
        "<a href=\"https://colab.research.google.com/github/dhmrilhamk263/strukturdata/blob/main/Praktikum4_G211220038.ipynb\" target=\"_parent\"><img src=\"https://colab.research.google.com/assets/colab-badge.svg\" alt=\"Open In Colab\"/></a>"
      ]
    },
    {
      "cell_type": "code",
      "source": [
        "# Buat array mark[] dari tipe Boolean dengan ukuran 26\n",
        "mark = [False] * 26\n",
        "\n",
        "# Fungsi untuk menandai karakter sebagai dikunjungi\n",
        "def tandai_kunjungan(karakter):\n",
        "    if 'a' <= karakter <= 'z':\n",
        "        index = ord(karakter) - ord('a')\n",
        "        mark[index] = True\n",
        "    elif 'A' <= karakter <= 'Z':\n",
        "        index = ord(karakter) - ord('A')\n",
        "        mark[index] = True\n",
        "\n",
        "# Fungsi untuk memeriksa apakah semua karakter telah dikunjungi\n",
        "def semua_dikunjungi():\n",
        "    return all(mark)\n",
        "\n",
        "# Contoh string\n",
        "input_string = \"The Quick Brown Fox Jumps Over The Lazy Dog\"\n",
        "\n",
        "# Ulangi semua karakter dalam string dan tandai sebagai dikunjungi\n",
        "for char in input_string:\n",
        "    tandai_kunjungan(char)\n",
        "\n",
        "# Periksa apakah semua karakter telah dikunjungi\n",
        "if semua_dikunjungi():\n",
        "    print(\"Semua karakter telah dikunjungi.\")\n",
        "else:\n",
        "    print(\"Tidak semua karakter telah dikunjungi.\")\n"
      ],
      "metadata": {
        "id": "JKUQ0w03ricR",
        "colab": {
          "base_uri": "https://localhost:8080/"
        },
        "outputId": "eae96575-c8c4-47e7-a17d-d432c3a5ceeb"
      },
      "execution_count": 3,
      "outputs": [
        {
          "output_type": "stream",
          "name": "stdout",
          "text": [
            "Semua karakter telah dikunjungi.\n"
          ]
        }
      ]
    },
    {
      "cell_type": "code",
      "source": [
        "import numpy as np\n",
        "\n",
        "# Buat vektor bool[] dengan ukuran 26\n",
        "mark = np.zeros(26, dtype=bool)\n",
        "\n",
        "# Cetak vektor awal\n",
        "print(\"Vektor Awal:\", mark)\n",
        "\n",
        "# Fungsi untuk menandai karakter sebagai dikunjungi\n",
        "def tandai_kunjungan(karakter):\n",
        "    if 'a' <= karakter <= 'z':\n",
        "        index = ord(karakter) - ord('a')\n",
        "        mark[index] = True\n",
        "    elif 'A' <= karakter <= 'Z':\n",
        "        index = ord(karakter) - ord('A')\n",
        "        mark[index] = True\n",
        "\n",
        "# Contoh string\n",
        "input_string = \"The Quick Brown Fox Jumps Over The Lazy Dog\"\n",
        "\n",
        "# Ulangi semua karakter dalam string dan tandai sebagai dikunjungi\n",
        "for char in input_string:\n",
        "    tandai_kunjungan(char)\n",
        "\n",
        "# Cetak vektor setelah penandaan\n",
        "print(\"Vektor Setelah Penandaan:\", mark)\n"
      ],
      "metadata": {
        "colab": {
          "base_uri": "https://localhost:8080/"
        },
        "id": "1VinICppwb5X",
        "outputId": "dc5acf4a-0e1e-400c-b346-a8adfa66e049"
      },
      "execution_count": 4,
      "outputs": [
        {
          "output_type": "stream",
          "name": "stdout",
          "text": [
            "Vektor Awal: [False False False False False False False False False False False False\n",
            " False False False False False False False False False False False False\n",
            " False False]\n",
            "Vektor Setelah Penandaan: [ True  True  True  True  True  True  True  True  True  True  True  True\n",
            "  True  True  True  True  True  True  True  True  True  True  True  True\n",
            "  True  True]\n"
          ]
        }
      ]
    },
    {
      "cell_type": "code",
      "source": [
        "import numpy as np\n",
        "\n",
        "# Buat vektor bool[] dengan ukuran 26\n",
        "mark = np.zeros(26, dtype=bool)\n",
        "\n",
        "# Fungsi untuk menandai karakter sebagai dikunjungi\n",
        "def tandai_kunjungan(karakter):\n",
        "    if 'a' <= karakter <= 'z':\n",
        "        index = ord(karakter) - ord('a')\n",
        "        mark[index] = 1\n",
        "    elif 'A' <= karakter <= 'Z':\n",
        "        index = ord(karakter) - ord('A')\n",
        "        mark[index] = 1\n",
        "\n",
        "# Fungsi untuk memeriksa apakah semua indeks ditandai\n",
        "def semua_ditandai():\n",
        "    return all(mark)\n",
        "\n",
        "# Contoh string\n",
        "input_string = \"The Quick Brown Fox Jumps Over The Lazy Dog\"\n",
        "\n",
        "# Ulangi semua karakter dalam string dan tandai sebagai dikunjungi\n",
        "for char in input_string:\n",
        "    tandai_kunjungan(char)\n",
        "\n",
        "# Periksa apakah semua indeks ditandai\n",
        "if semua_ditandai():\n",
        "    print(\"Ini adalah pangram.\")\n",
        "else:\n",
        "    print(\"Ini bukan pangram.\")\n"
      ],
      "metadata": {
        "colab": {
          "base_uri": "https://localhost:8080/"
        },
        "id": "_Kk_IxS7xO53",
        "outputId": "b38ff2f3-8747-4984-ff64-525f1cb29c10"
      },
      "execution_count": 6,
      "outputs": [
        {
          "output_type": "stream",
          "name": "stdout",
          "text": [
            "Ini adalah pangram.\n"
          ]
        }
      ]
    }
  ]
}