{
  "cells": [
    {
      "cell_type": "markdown",
      "metadata": {
        "id": "view-in-github",
        "colab_type": "text"
      },
      "source": [
        "<a href=\"https://colab.research.google.com/github/dhmrilhamk263/strukturdata/blob/main/FileInorder_G211220038.ipynb\" target=\"_parent\"><img src=\"https://colab.research.google.com/assets/colab-badge.svg\" alt=\"Open In Colab\"/></a>"
      ]
    },
    {
      "cell_type": "code",
      "execution_count": 20,
      "metadata": {
        "colab": {
          "base_uri": "https://localhost:8080/"
        },
        "id": "WAO27ho463WU",
        "outputId": "5ecb10bf-cbef-4519-a1ef-2e3fa54004bb"
      },
      "outputs": [
        {
          "output_type": "stream",
          "name": "stdout",
          "text": [
            "\n",
            "Preorder traversal of binary tree is:\n",
            "1 2 4 5 3 "
          ]
        }
      ],
      "source": [
        "# Python3 program for tree traversals\n",
        "# Inorder, Preorder, and Postorder\n",
        "\n",
        "class Node:\n",
        "    def __init__(self, key):\n",
        "        self.left = None\n",
        "        self.right = None\n",
        "        self.val = key\n",
        "\n",
        "# A function to do Inorder tree traversal\n",
        "def printInorder(root):\n",
        "    if root:\n",
        "        # First recur on left child\n",
        "        printInorder(root.left)\n",
        "\n",
        "        # Then print the data of node\n",
        "        print(root.val, end=\" \")\n",
        "\n",
        "        # Now recur on right child\n",
        "        printInorder(root.right)\n",
        "\n",
        "# A function to do Preorder tree traversal\n",
        "def printPreorder(root):\n",
        "    if root:\n",
        "        # First print the data of node\n",
        "        print(root.val, end=\" \")\n",
        "\n",
        "        # Then recur on left child\n",
        "        printPreorder(root.left)\n",
        "\n",
        "        # Now recur on right child\n",
        "        printPreorder(root.right)\n",
        "\n",
        "# A function to do Postorder tree traversal\n",
        "def printPostorder(root):\n",
        "    if root:\n",
        "        # First recur on left child\n",
        "        printPostorder(root.left)\n",
        "\n",
        "        # Now recur on right child\n",
        "        printPostorder(root.right)\n",
        "\n",
        "        # Then print the data of node\n",
        "        print(root.val, end=\" \")\n",
        "\n",
        "# Driver code\n",
        "if __name__ == \"__main__\":\n",
        "    root = Node(1)\n",
        "    root.left = Node(2)\n",
        "    root.right = Node(3)\n",
        "    root.left.left = Node(4)\n",
        "    root.left.right = Node(5)\n",
        "\n",
        "    # Function calls\n",
        "\n",
        "\n",
        "    print(\"\\nPreorder traversal of binary tree is:\")\n",
        "    printPreorder(root)\n",
        "\n"
      ]
    }
  ],
  "metadata": {
    "colab": {
      "provenance": [],
      "authorship_tag": "ABX9TyPuajygWv+xJSOKvHJojjJQ",
      "include_colab_link": true
    },
    "kernelspec": {
      "display_name": "Python 3",
      "name": "python3"
    },
    "language_info": {
      "name": "python"
    }
  },
  "nbformat": 4,
  "nbformat_minor": 0
}