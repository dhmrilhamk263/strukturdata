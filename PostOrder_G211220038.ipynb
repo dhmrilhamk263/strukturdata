{
  "nbformat": 4,
  "nbformat_minor": 0,
  "metadata": {
    "colab": {
      "provenance": [],
      "authorship_tag": "ABX9TyMLwoMfharegTHB4gRRQUki",
      "include_colab_link": true
    },
    "kernelspec": {
      "name": "python3",
      "display_name": "Python 3"
    },
    "language_info": {
      "name": "python"
    }
  },
  "cells": [
    {
      "cell_type": "markdown",
      "metadata": {
        "id": "view-in-github",
        "colab_type": "text"
      },
      "source": [
        "<a href=\"https://colab.research.google.com/github/dhmrilhamk263/strukturdata/blob/main/PostOrder_G211220038.ipynb\" target=\"_parent\"><img src=\"https://colab.research.google.com/assets/colab-badge.svg\" alt=\"Open In Colab\"/></a>"
      ]
    },
    {
      "cell_type": "code",
      "source": [
        "# Postorder Binary Tree\n",
        "\n",
        "class Node:\n",
        "    def __init__(self, key):\n",
        "        self.left = None\n",
        "        self.right = None\n",
        "        self.val = key\n",
        "\n",
        "# A function to do Postorder tree traversal\n",
        "def printPostorder(root):\n",
        "    if root:\n",
        "        # First recur on left child\n",
        "        printPostorder(root.left)\n",
        "\n",
        "        # Now recur on right child\n",
        "        printPostorder(root.right)\n",
        "\n",
        "        # Then print the data of node\n",
        "        print(root.val, end=\" \")\n",
        "\n",
        "# Driver code\n",
        "if __name__ == \"__main__\":\n",
        "    root = Node(1)\n",
        "    root.left = Node(2)\n",
        "    root.right = Node(3)\n",
        "    root.left.left = Node(4)\n",
        "    root.left.right = Node(5)\n",
        "\n",
        "    # Function calls\n",
        "    print(\"\\nPostorder traversal of binary tree is:\")\n",
        "    printPostorder(root)"
      ],
      "metadata": {
        "colab": {
          "base_uri": "https://localhost:8080/"
        },
        "id": "GpMIf4PhEIm3",
        "outputId": "a3dbebee-1be0-45a5-a26f-ca68f76a30c2"
      },
      "execution_count": 2,
      "outputs": [
        {
          "output_type": "stream",
          "name": "stdout",
          "text": [
            "\n",
            "Postorder traversal of binary tree is:\n",
            "4 5 2 3 1 "
          ]
        }
      ]
    }
  ]
}