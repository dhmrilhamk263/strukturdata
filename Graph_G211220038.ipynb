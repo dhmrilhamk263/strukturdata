{
  "nbformat": 4,
  "nbformat_minor": 0,
  "metadata": {
    "colab": {
      "provenance": [],
      "authorship_tag": "ABX9TyMj6Z4YmcU+2AhGT5GuDtvP",
      "include_colab_link": true
    },
    "kernelspec": {
      "name": "python3",
      "display_name": "Python 3"
    },
    "language_info": {
      "name": "python"
    }
  },
  "cells": [
    {
      "cell_type": "markdown",
      "metadata": {
        "id": "view-in-github",
        "colab_type": "text"
      },
      "source": [
        "<a href=\"https://colab.research.google.com/github/dhmrilhamk263/strukturdata/blob/main/Graph_G211220038.ipynb\" target=\"_parent\"><img src=\"https://colab.research.google.com/assets/colab-badge.svg\" alt=\"Open In Colab\"/></a>"
      ]
    },
    {
      "cell_type": "code",
      "execution_count": 1,
      "metadata": {
        "colab": {
          "base_uri": "https://localhost:8080/"
        },
        "id": "-MFnKY-Nry_Z",
        "outputId": "2f59b398-712b-420c-b8cc-932271fa0006"
      },
      "outputs": [
        {
          "output_type": "stream",
          "name": "stdout",
          "text": [
            "Vertex   Distance from Source\n",
            "   0                0\n",
            "   1                4\n",
            "   2                12\n",
            "   3                19\n",
            "   4                21\n",
            "   5                11\n",
            "   6                9\n",
            "   7                8\n",
            "   8                14\n"
          ]
        }
      ],
      "source": [
        "import heapq\n",
        "\n",
        "def dijkstra(graph, source):\n",
        "    distances = {vertex: float('infinity') for vertex in graph}\n",
        "    distances[source] = 0\n",
        "    priority_queue = [(0, source)]\n",
        "\n",
        "    while priority_queue:\n",
        "        current_distance, current_vertex = heapq.heappop(priority_queue)\n",
        "\n",
        "        if current_distance > distances[current_vertex]:\n",
        "            continue\n",
        "\n",
        "        for neighbor, weight in graph[current_vertex].items():\n",
        "            distance = current_distance + weight\n",
        "\n",
        "            if distance < distances[neighbor]:\n",
        "                distances[neighbor] = distance\n",
        "                heapq.heappush(priority_queue, (distance, neighbor))\n",
        "\n",
        "    return distances\n",
        "\n",
        "# Definisi graf (adjacency list)\n",
        "graph = {\n",
        "    0: {1: 4, 7: 8},\n",
        "    1: {0: 4, 2: 8, 7: 11},\n",
        "    2: {1: 8, 3: 7, 5: 4, 8: 2},\n",
        "    3: {2: 7, 4: 9, 5: 14},\n",
        "    4: {3: 9, 5: 10},\n",
        "    5: {2: 4, 3: 14, 4: 10, 6: 2},\n",
        "    6: {5: 2, 7: 1, 8: 6},\n",
        "    7: {0: 8, 1: 11, 6: 1, 8: 7},\n",
        "    8: {2: 2, 6: 6, 7: 7}\n",
        "}\n",
        "\n",
        "source_vertex = 0\n",
        "result = dijkstra(graph, source_vertex)\n",
        "\n",
        "# Menampilkan output yang diinginkan\n",
        "print(\"Vertex   Distance from Source\")\n",
        "for vertex, distance in result.items():\n",
        "    print(f\"   {vertex}                {distance}\")\n"
      ]
    }
  ]
}