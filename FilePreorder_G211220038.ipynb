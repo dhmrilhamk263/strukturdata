{
  "nbformat": 4,
  "nbformat_minor": 0,
  "metadata": {
    "colab": {
      "provenance": [],
      "authorship_tag": "ABX9TyOkcDXNbpq15uLVqJMBBwXH",
      "include_colab_link": true
    },
    "kernelspec": {
      "name": "python3",
      "display_name": "Python 3"
    },
    "language_info": {
      "name": "python"
    }
  },
  "cells": [
    {
      "cell_type": "markdown",
      "metadata": {
        "id": "view-in-github",
        "colab_type": "text"
      },
      "source": [
        "<a href=\"https://colab.research.google.com/github/dhmrilhamk263/strukturdata/blob/main/FilePreorder_G211220038.ipynb\" target=\"_parent\"><img src=\"https://colab.research.google.com/assets/colab-badge.svg\" alt=\"Open In Colab\"/></a>"
      ]
    },
    {
      "cell_type": "code",
      "source": [
        "# Preorder Binary Tree\n",
        "\n",
        "class Node:\n",
        "    def __init__(self, key):\n",
        "        self.left = None\n",
        "        self.right = None\n",
        "        self.val = key\n",
        "\n",
        "# A function to do Preorder tree traversal\n",
        "def printPreorder(root):\n",
        "    if root:\n",
        "        # First print the data of node\n",
        "        print(root.val, end=\" \")\n",
        "\n",
        "        # Then recur on left child\n",
        "        printPreorder(root.left)\n",
        "\n",
        "        # Now recur on right child\n",
        "        printPreorder(root.right)\n",
        "\n",
        "# Driver code\n",
        "if __name__ == \"__main__\":\n",
        "    root = Node(1)\n",
        "    root.left = Node(2)\n",
        "    root.right = Node(3)\n",
        "    root.left.left = Node(4)\n",
        "    root.left.right = Node(5)\n",
        "\n",
        "# Function calls\n",
        "    print(\"Inorder traversal of binary tree is:\")\n",
        "    printInorder(root)"
      ],
      "metadata": {
        "colab": {
          "base_uri": "https://localhost:8080/"
        },
        "id": "UK6ho2cZ97n1",
        "outputId": "7d62af63-e2c4-4574-a1cb-1828ac34a15e"
      },
      "execution_count": 9,
      "outputs": [
        {
          "output_type": "stream",
          "name": "stdout",
          "text": [
            "Inorder traversal of binary tree is:\n",
            "4 2 5 1 3 "
          ]
        }
      ]
    }
  ]
}