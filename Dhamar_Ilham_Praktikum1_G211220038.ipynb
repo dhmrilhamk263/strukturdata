{
  "nbformat": 4,
  "nbformat_minor": 0,
  "metadata": {
    "colab": {
      "provenance": [],
      "authorship_tag": "ABX9TyNtd2r4wfJwy9l6ohwE3Y5f",
      "include_colab_link": true
    },
    "kernelspec": {
      "name": "python3",
      "display_name": "Python 3"
    },
    "language_info": {
      "name": "python"
    }
  },
  "cells": [
    {
      "cell_type": "markdown",
      "metadata": {
        "id": "view-in-github",
        "colab_type": "text"
      },
      "source": [
        "<a href=\"https://colab.research.google.com/github/dhmrilhamk263/strukturdata/blob/main/Dhamar_Ilham_Praktikum1_G211220038.ipynb\" target=\"_parent\"><img src=\"https://colab.research.google.com/assets/colab-badge.svg\" alt=\"Open In Colab\"/></a>"
      ]
    },
    {
      "cell_type": "code",
      "execution_count": null,
      "metadata": {
        "colab": {
          "base_uri": "https://localhost:8080/"
        },
        "id": "v1mhJ8M3FaFV",
        "outputId": "ae807990-fde1-4b31-f299-626251928206"
      },
      "outputs": [
        {
          "output_type": "stream",
          "name": "stdout",
          "text": [
            "Azka\n",
            "Isi my_friends indeks ke-3 adalah:Azka\n",
            "Semua teman:ada5 orang\n",
            "Budi\n",
            "Jack\n",
            "Yoffie\n",
            "Azka\n",
            "Yanti\n"
          ]
        }
      ],
      "source": [
        "my_friends = [\"Budi\",\"Jack\",\"Yoffie\",\"Azka\",\"Yanti\"]\n",
        "print (my_friends[3])\n",
        "print (\"Isi my_friends indeks ke-3 adalah:{}\".format(my_friends[3]))\n",
        "print (\"Semua teman:ada{} orang\".format(len(my_friends)))\n",
        "for friend in my_friends : print (friend)"
      ]
    }
  ]
}