{
  "nbformat": 4,
  "nbformat_minor": 0,
  "metadata": {
    "colab": {
      "provenance": [],
      "authorship_tag": "ABX9TyPB3zHx6uN/tgVZAMWIOlD2",
      "include_colab_link": true
    },
    "kernelspec": {
      "name": "python3",
      "display_name": "Python 3"
    },
    "language_info": {
      "name": "python"
    }
  },
  "cells": [
    {
      "cell_type": "markdown",
      "metadata": {
        "id": "view-in-github",
        "colab_type": "text"
      },
      "source": [
        "<a href=\"https://colab.research.google.com/github/dhmrilhamk263/strukturdata/blob/main/Praktikum3_G211220038.ipynb\" target=\"_parent\"><img src=\"https://colab.research.google.com/assets/colab-badge.svg\" alt=\"Open In Colab\"/></a>"
      ]
    },
    {
      "cell_type": "code",
      "execution_count": 2,
      "metadata": {
        "colab": {
          "base_uri": "https://localhost:8080/"
        },
        "id": "TKCdgHYjgc2k",
        "outputId": "ebd73051-eec3-44f2-f16b-d744df62891e"
      },
      "outputs": [
        {
          "output_type": "stream",
          "name": "stdout",
          "text": [
            "programming\n"
          ]
        }
      ],
      "source": [
        "# Program Python untuk mengonversi daftar karakter menjadi string\n",
        "\n",
        "def convert(s):\n",
        "    new = \"\"\n",
        "    for x in s:\n",
        "        new += x\n",
        "    return new\n",
        "\n",
        "# driver code\n",
        "s = ['p', 'r', 'o', 'g', 'r', 'a', 'm', 'm', 'i', 'n', 'g']\n",
        "print(convert(s))\n"
      ]
    }
  ]
}